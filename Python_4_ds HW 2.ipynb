{
 "cells": [
  {
   "cell_type": "markdown",
   "metadata": {
    "collapsed": true
   },
   "source": [
    "## Python_4_ds HW 2"
   ]
  },
  {
   "cell_type": "markdown",
   "metadata": {},
   "source": [
    "- 投擲一枚公正的骰子，總共出現三個六才停止"
   ]
  },
  {
   "cell_type": "code",
   "execution_count": 3,
   "metadata": {},
   "outputs": [
    {
     "name": "stdout",
     "output_type": "stream",
     "text": [
      "['2', '4', '4', '3', '6', '1', '1', '3', '6', '4', '4', '1', '2', '4', '4', '2', '3', '3', '3', '5', '6']\n",
      "21\n"
     ]
    }
   ],
   "source": [
    "from random import choice\n",
    "\n",
    "dice = [\"1\", \"2\", \"3\", \"4\", \"5\", \"6\"]\n",
    "flips = []\n",
    "while flips.count(\"6\") < 3:\n",
    "    flips.append(choice(dice))\n",
    "\n",
    "print(flips)\n",
    "print(len(flips))"
   ]
  },
  {
   "cell_type": "markdown",
   "metadata": {},
   "source": [
    "-------------"
   ]
  },
  {
   "cell_type": "markdown",
   "metadata": {},
   "source": [
    "- 實作標準差的計算 : 計算 range(1, 101) 的標準差 (不可使用Numpy套件)"
   ]
  },
  {
   "cell_type": "code",
   "execution_count": 1,
   "metadata": {},
   "outputs": [
    {
     "name": "stdout",
     "output_type": "stream",
     "text": [
      "5050\n",
      "100\n",
      "50.5\n",
      "83325.0\n",
      "range(1, 101) 的標準差 :  29.011491975882016\n"
     ]
    }
   ],
   "source": [
    "a = 0\n",
    "counts = 0\n",
    "\n",
    "for i in range(1,101):\n",
    "    a = a + i\n",
    "    counts += 1\n",
    "print(a)\n",
    "print(counts)\n",
    "print(a/counts)\n",
    "\n",
    "\n",
    "\n",
    "c = 0\n",
    "for d in range(1,101):\n",
    "    c = c + (d - (a/counts))**2\n",
    "print(c)\n",
    "\n",
    "SD_數列1到100 = (c/(counts - 1))**0.5\n",
    "print(\"range(1, 101) 的標準差 : \" , SD_數列1到100)"
   ]
  }
 ],
 "metadata": {
  "kernelspec": {
   "display_name": "Python 3",
   "language": "python",
   "name": "python3"
  },
  "language_info": {
   "codemirror_mode": {
    "name": "ipython",
    "version": 3
   },
   "file_extension": ".py",
   "mimetype": "text/x-python",
   "name": "python",
   "nbconvert_exporter": "python",
   "pygments_lexer": "ipython3",
   "version": "3.6.1"
  }
 },
 "nbformat": 4,
 "nbformat_minor": 2
}
