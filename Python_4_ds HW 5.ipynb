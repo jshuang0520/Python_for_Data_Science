{
 "cells": [
  {
   "cell_type": "markdown",
   "metadata": {},
   "source": [
    "## Python_4_ds HW 5"
   ]
  },
  {
   "cell_type": "markdown",
   "metadata": {},
   "source": [
    "- 利用 numpy 提供的方法實作樣本標準差函數"
   ]
  },
  {
   "cell_type": "code",
   "execution_count": 2,
   "metadata": {},
   "outputs": [
    {
     "name": "stdout",
     "output_type": "stream",
     "text": [
      "平均數 = 50.5\n",
      "SSE = 841.666666667\n",
      "標準差 = 29.0114919759\n"
     ]
    }
   ],
   "source": [
    "###### 計算數列 1 到 n 的標準差\n",
    "import numpy as np\n",
    "\n",
    "n = 100                          #在最後呼叫函數( 此為print() )之前，先宣告好每一個自變數\n",
    "\n",
    "arr = np.arange(1, n+1)\n",
    "x_bar = arr.mean()\n",
    "SSE = ( ( sum( (arr - x_bar)**2) ) / (n-1) )\n",
    "SD = SSE**0.5\n",
    "\n",
    "print(\"平均數 = %s\" % x_bar)\n",
    "print(\"SSE = %s\" % SSE)\n",
    "print(\"標準差 = %s\" % SD)"
   ]
  }
 ],
 "metadata": {
  "kernelspec": {
   "display_name": "Python 3",
   "language": "python",
   "name": "python3"
  },
  "language_info": {
   "codemirror_mode": {
    "name": "ipython",
    "version": 3
   },
   "file_extension": ".py",
   "mimetype": "text/x-python",
   "name": "python",
   "nbconvert_exporter": "python",
   "pygments_lexer": "ipython3",
   "version": "3.6.1"
  }
 },
 "nbformat": 4,
 "nbformat_minor": 2
}
