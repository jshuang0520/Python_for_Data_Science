{
 "cells": [
  {
   "cell_type": "markdown",
   "metadata": {},
   "source": [
    "## Python_4_ds HW 3"
   ]
  },
  {
   "cell_type": "markdown",
   "metadata": {},
   "source": [
    "- 印出所有可以將 87 整除的因數（正數）"
   ]
  },
  {
   "cell_type": "code",
   "execution_count": 4,
   "metadata": {},
   "outputs": [
    {
     "name": "stdout",
     "output_type": "stream",
     "text": [
      "1 是87的因數。\n",
      "3 是87的因數。\n",
      "29 是87的因數。\n",
      "87 是87的因數。\n"
     ]
    }
   ],
   "source": [
    "seq_1到87 = list(range(1,88))\n",
    "\n",
    "for a in seq_1到87 :\n",
    "    if 87 % a == 0 :\n",
    "        print(\"%i 是87的因數。\" % a)\n",
    "    else:\n",
    "        None"
   ]
  },
  {
   "cell_type": "markdown",
   "metadata": {},
   "source": [
    "------------"
   ]
  },
  {
   "cell_type": "markdown",
   "metadata": {},
   "source": [
    "- 將 1 到 100 印出，但是：\n",
    "\n",
    " - 碰到 3 的倍數印出 \"Bingo!\"\n",
    " - 碰到 5 的倍數印出 \"Awesome!\"\n",
    " - 碰到 15 的倍數印出 \"Fantastic!\""
   ]
  },
  {
   "cell_type": "code",
   "execution_count": 5,
   "metadata": {},
   "outputs": [
    {
     "name": "stdout",
     "output_type": "stream",
     "text": [
      "3 是3的倍數。Bingo!\n",
      "5 是5的倍數。Awesome!\n",
      "6 是3的倍數。Bingo!\n",
      "9 是3的倍數。Bingo!\n",
      "10 是5的倍數。Awesome!\n",
      "12 是3的倍數。Bingo!\n",
      "15 是15的倍數。Fantastic!\n",
      "18 是3的倍數。Bingo!\n",
      "20 是5的倍數。Awesome!\n",
      "21 是3的倍數。Bingo!\n",
      "24 是3的倍數。Bingo!\n",
      "25 是5的倍數。Awesome!\n",
      "27 是3的倍數。Bingo!\n",
      "30 是15的倍數。Fantastic!\n",
      "33 是3的倍數。Bingo!\n",
      "35 是5的倍數。Awesome!\n",
      "36 是3的倍數。Bingo!\n",
      "39 是3的倍數。Bingo!\n",
      "40 是5的倍數。Awesome!\n",
      "42 是3的倍數。Bingo!\n",
      "45 是15的倍數。Fantastic!\n",
      "48 是3的倍數。Bingo!\n",
      "50 是5的倍數。Awesome!\n",
      "51 是3的倍數。Bingo!\n",
      "54 是3的倍數。Bingo!\n",
      "55 是5的倍數。Awesome!\n",
      "57 是3的倍數。Bingo!\n",
      "60 是15的倍數。Fantastic!\n",
      "63 是3的倍數。Bingo!\n",
      "65 是5的倍數。Awesome!\n",
      "66 是3的倍數。Bingo!\n",
      "69 是3的倍數。Bingo!\n",
      "70 是5的倍數。Awesome!\n",
      "72 是3的倍數。Bingo!\n",
      "75 是15的倍數。Fantastic!\n",
      "78 是3的倍數。Bingo!\n",
      "80 是5的倍數。Awesome!\n",
      "81 是3的倍數。Bingo!\n",
      "84 是3的倍數。Bingo!\n",
      "85 是5的倍數。Awesome!\n",
      "87 是3的倍數。Bingo!\n",
      "90 是15的倍數。Fantastic!\n",
      "93 是3的倍數。Bingo!\n",
      "95 是5的倍數。Awesome!\n",
      "96 是3的倍數。Bingo!\n",
      "99 是3的倍數。Bingo!\n",
      "100 是5的倍數。Awesome!\n"
     ]
    }
   ],
   "source": [
    "seq_1到100 = list(range(1,101))\n",
    "\n",
    "for a in seq_1到100 :\n",
    "    if a % 15 == 0 :\n",
    "        print(\"%i 是15的倍數。Fantastic!\" % a)\n",
    "    elif a % 3 == 0 :\n",
    "        print(\"%i 是3的倍數。Bingo!\" % a)\n",
    "    elif a % 5 == 0 :\n",
    "        print(\"%i 是5的倍數。Awesome!\" % a)\n",
    "    else :\n",
    "        None"
   ]
  }
 ],
 "metadata": {
  "kernelspec": {
   "display_name": "Python 3",
   "language": "python",
   "name": "python3"
  },
  "language_info": {
   "codemirror_mode": {
    "name": "ipython",
    "version": 3
   },
   "file_extension": ".py",
   "mimetype": "text/x-python",
   "name": "python",
   "nbconvert_exporter": "python",
   "pygments_lexer": "ipython3",
   "version": "3.6.1"
  }
 },
 "nbformat": 4,
 "nbformat_minor": 2
}
