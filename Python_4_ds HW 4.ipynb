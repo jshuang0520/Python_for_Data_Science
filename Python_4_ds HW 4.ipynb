{
 "cells": [
  {
   "cell_type": "markdown",
   "metadata": {},
   "source": [
    "## Python_4_ds HW 4"
   ]
  },
  {
   "cell_type": "markdown",
   "metadata": {},
   "source": [
    "- 自訂函數 1.1：寫一個判斷輸入的正整數是否為質數的函數 is_prime()"
   ]
  },
  {
   "cell_type": "code",
   "execution_count": 1,
   "metadata": {},
   "outputs": [
    {
     "name": "stdout",
     "output_type": "stream",
     "text": [
      "2 是質數\n",
      "3 是質數\n",
      "5 是質數\n",
      "7 是質數\n",
      "11 是質數\n",
      "13 是質數\n",
      "17 是質數\n",
      "19 是質數\n",
      "83 是質數\n",
      "89 是質數\n",
      "97 是質數\n",
      "101 是質數\n",
      "您輸入的是 -1 。不好意思，請輸入正整數!\n",
      "您輸入的是 -1.2 。不好意思，請輸入正整數!\n",
      "您輸入的是 0 。不好意思，請輸入正整數!\n",
      "您輸入的是 0.2 。輸入的值不是屬於實數就好。還必須是正整數!\n",
      "1 既不是質數，也不是合數喔!\n",
      "您輸入的是 2.2 。輸入的值不是屬於實數就好。還必須是正整數!\n",
      "您輸入的是 7.2 。輸入的值不是屬於實數就好。還必須是正整數!\n",
      "4 不是質數而是合數喔!\n",
      "6 不是質數而是合數喔!\n",
      "8 不是質數而是合數喔!\n",
      "9 不是質數而是合數喔!\n",
      "10 不是質數而是合數喔!\n",
      "15 不是質數而是合數喔!\n",
      "21 不是質數而是合數喔!\n",
      "1000000000000 不是質數而是合數喔!\n",
      "1000000000011 不是質數而是合數喔!\n"
     ]
    }
   ],
   "source": [
    "def is_prime(x) :\n",
    "    '''\n",
    "    這是一個自訂函數，用來判斷輸入的正整數是否為質數\n",
    "    '''\n",
    "    try :\n",
    "        if x <= 0 :\n",
    "            return \"您輸入的是 %s 。不好意思，請輸入正整數!\" % x\n",
    "        elif x == 1 :\n",
    "            return \"1 既不是質數，也不是合數喔!\" \n",
    "        elif x == 2 :\n",
    "            return \"2 是質數\"\n",
    "        else :\n",
    "            for a in range(2, x) :\n",
    "                while x % a == 0 :\n",
    "                    return \"%i 不是質數而是合數喔!\" % x \n",
    "                    break\n",
    "            return \"%i 是質數\" % x     #上次的版本當中，在else底下的return並未縮排，但程式的質數判斷結果並未出錯。在此加以縮排來修正!\n",
    "    except :\n",
    "            return \"您輸入的是 %s 。輸入的值不是屬於實數就好。還必須是正整數!\" % x \n",
    "\n",
    "\n",
    "        \n",
    "        \n",
    "        \n",
    "print(is_prime(2))\n",
    "print(is_prime(3))  \n",
    "print(is_prime(5))\n",
    "print(is_prime(7))\n",
    "print(is_prime(11))\n",
    "print(is_prime(13))\n",
    "print(is_prime(17))\n",
    "print(is_prime(19))\n",
    "print(is_prime(83))\n",
    "print(is_prime(89))\n",
    "print(is_prime(97))\n",
    "print(is_prime(101))\n",
    "print(is_prime(-1))\n",
    "print(is_prime(-1.2)) \n",
    "print(is_prime(0))\n",
    "print(is_prime(0.2))    \n",
    "print(is_prime(1))    \n",
    "print(is_prime(2.2)) \n",
    "print(is_prime(7.2)) \n",
    "print(is_prime(4))\n",
    "print(is_prime(6))\n",
    "print(is_prime(8))\n",
    "print(is_prime(9))      \n",
    "print(is_prime(10))\n",
    "print(is_prime(15))     \n",
    "print(is_prime(21))    \n",
    "print(is_prime(1000000000000))\n",
    "print(is_prime(1000000000011))   "
   ]
  },
  {
   "cell_type": "markdown",
   "metadata": {},
   "source": [
    "----------"
   ]
  },
  {
   "cell_type": "markdown",
   "metadata": {},
   "source": [
    "- 自訂函數 1.2：寫一個函數 count_primes(x, y) 計算 x 到 y 之間有幾個質數（包含 x, y）"
   ]
  },
  {
   "cell_type": "code",
   "execution_count": 17,
   "metadata": {},
   "outputs": [
    {
     "name": "stdout",
     "output_type": "stream",
     "text": [
      "在閉區間[1 , 101]中，共有 26 個質數。\n"
     ]
    }
   ],
   "source": [
    "#運用1.1改寫的函式\n",
    "\n",
    "x = 1\n",
    "y = 101\n",
    "\n",
    "def is_prime(x) :\n",
    "    '''\n",
    "    這是一個自訂函數，用來判斷輸入的正整數是否為質數\n",
    "    '''\n",
    "    try :\n",
    "        if x <= 0 :\n",
    "            return False\n",
    "        elif x == 1 :\n",
    "            return False\n",
    "        elif x == 2 :\n",
    "            return True\n",
    "        else :\n",
    "            for a in range(2, x) :\n",
    "                while x % a == 0 :\n",
    "                    return False\n",
    "                    break\n",
    "        return True\n",
    "    except :\n",
    "            return False \n",
    "\n",
    "#1.2開始 - step1 : 定義一個函數     \n",
    "def count_primes_1(x) :\n",
    "    '''\n",
    "    檢視在你所輸入的數以內，共有幾個質數\n",
    "    '''\n",
    "    prime_list = []   \n",
    "    for i in range(1, x+1) :\n",
    "        if is_prime(i) == True :\n",
    "            prime_list.append(i)\n",
    "    return len(prime_list)\n",
    "\n",
    "\n",
    "\n",
    "def count_primes_2(y) :\n",
    "    '''\n",
    "    檢視在你所輸入的數以內，共有幾個質數\n",
    "    '''\n",
    "    prime_list = []   \n",
    "    for i in range(1, y+1) :\n",
    "        if is_prime(i) == True :\n",
    "            prime_list.append(i)\n",
    "    return len(prime_list)\n",
    "\n",
    "\n",
    "\n",
    "def count_primes(x, y) :\n",
    "    '''\n",
    "    檢視在你所輸入的[x,y]閉區間內，共有幾個質數\n",
    "    '''    \n",
    "    return count_primes_2(y) - count_primes_1(x)\n",
    "\n",
    "\n",
    "print(\"在閉區間[%s , %s]中，共有 %s 個質數。\" % (x, y, count_primes(x, y)))\n",
    "  "
   ]
  },
  {
   "cell_type": "markdown",
   "metadata": {},
   "source": [
    "-----------"
   ]
  },
  {
   "cell_type": "markdown",
   "metadata": {},
   "source": [
    "- 自訂函數 2：寫一個 Fibonacci 數列的產生函數，有三個輸入：第一個數字 f1、第二個數字 f2 與數列長度 fib_len fib_gen(f1, f2, fib_len)"
   ]
  },
  {
   "cell_type": "code",
   "execution_count": 15,
   "metadata": {},
   "outputs": [
    {
     "name": "stdout",
     "output_type": "stream",
     "text": [
      "費波納契數列 : [10, 11, 21, 32, 53, 85, 138, 223, 361, 584, 945, 1529, 2474, 4003, 6477] \n"
     ]
    }
   ],
   "source": [
    "def Fibonacci(f1, f2, fib_len) :\n",
    "    '''\n",
    "    依據輸入的f1、f2與 fib_len 參數，產生一組首項、第二項及數列長度由你決定的Fibonacci 數列\n",
    "    ''' \n",
    "\n",
    "    fib_list = [f1, f2]\n",
    "    for i in range(fib_len - 2):\n",
    "        fib_list.append(f1 + f2)\n",
    "        f1, f2 = f2, f1 + f2\n",
    "    return(fib_list)\n",
    "\n",
    "\n",
    "print(\"費波納契數列 : %s \" % Fibonacci(10, 11, 15) )"
   ]
  },
  {
   "cell_type": "markdown",
   "metadata": {},
   "source": [
    "-----------"
   ]
  },
  {
   "cell_type": "markdown",
   "metadata": {},
   "source": [
    "- 自訂函數 3.1：寫一個公正的骰子 dice() 函數（使用 random.choice()）"
   ]
  },
  {
   "cell_type": "code",
   "execution_count": 16,
   "metadata": {},
   "outputs": [
    {
     "name": "stdout",
     "output_type": "stream",
     "text": [
      "6\n",
      "1\n",
      "5\n",
      "1\n"
     ]
    }
   ],
   "source": [
    "from random import choice\n",
    "\n",
    "def dice() :\n",
    "    return choice([\"1\",\"2\",\"3\",\"4\",\"5\",\"6\"])\n",
    "print(dice())\n",
    "print(dice())\n",
    "print(dice())\n",
    "print(dice())"
   ]
  },
  {
   "cell_type": "markdown",
   "metadata": {},
   "source": [
    "---------"
   ]
  },
  {
   "cell_type": "markdown",
   "metadata": {},
   "source": [
    "- 自訂函數 3.2：延續 3.1 寫一個 six_for_three_times() 函數計算擲幾次公正的骰子才會有三個六，並且把每次擲的記錄也回傳（使用 list 的 count() 方法）"
   ]
  },
  {
   "cell_type": "code",
   "execution_count": 18,
   "metadata": {},
   "outputs": [
    {
     "name": "stdout",
     "output_type": "stream",
     "text": [
      "[['1', '3', '6', '1', '2', '4', '1', '4', '6', '3', '5', '2', '3', '5', '1', '2', '4', '5', '4', '2', '1', '4', '1', '5', '4', '2', '1', '3', '6'], 29]\n"
     ]
    }
   ],
   "source": [
    "#用3.1的函式\n",
    "from random import choice\n",
    "\n",
    "def dice() :\n",
    "    return choice([\"1\",\"2\",\"3\",\"4\",\"5\",\"6\"])\n",
    "\n",
    "#3.2開始\n",
    "def six_for_three_times():\n",
    "    '''\n",
    "    這個函數計算擲幾次公正的骰子才會有三個六，並且把每次擲的記錄也回傳\n",
    "    '''\n",
    "    flips = []\n",
    "    while flips.count(\"6\") < 3:\n",
    "        flips.append(dice())\n",
    "    return flips, len(flips)\n",
    "print(list(six_for_three_times()))"
   ]
  }
 ],
 "metadata": {
  "kernelspec": {
   "display_name": "Python 3",
   "language": "python",
   "name": "python3"
  },
  "language_info": {
   "codemirror_mode": {
    "name": "ipython",
    "version": 3
   },
   "file_extension": ".py",
   "mimetype": "text/x-python",
   "name": "python",
   "nbconvert_exporter": "python",
   "pygments_lexer": "ipython3",
   "version": "3.6.1"
  }
 },
 "nbformat": 4,
 "nbformat_minor": 2
}
